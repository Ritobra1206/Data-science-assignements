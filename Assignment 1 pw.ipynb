{
 "cells": [
  {
   "cell_type": "markdown",
   "id": "7c2622d6",
   "metadata": {},
   "source": [
    "# 1"
   ]
  },
  {
   "cell_type": "code",
   "execution_count": 4,
   "id": "6638f8e2",
   "metadata": {},
   "outputs": [],
   "source": [
    "a=[\"fiona\",[\"rito\",5.66,8],7.899,(\"apple\",\"banana\")]"
   ]
  },
  {
   "cell_type": "code",
   "execution_count": 5,
   "id": "67de585b",
   "metadata": {},
   "outputs": [
    {
     "data": {
      "text/plain": [
       "['fiona', ['rito', 5.66, 8], 7.899, ('apple', 'banana')]"
      ]
     },
     "execution_count": 5,
     "metadata": {},
     "output_type": "execute_result"
    }
   ],
   "source": [
    "a#this is one variable with all the data types"
   ]
  },
  {
   "cell_type": "markdown",
   "id": "c7f1cb32",
   "metadata": {},
   "source": [
    "# 2\n"
   ]
  },
  {
   "cell_type": "code",
   "execution_count": null,
   "id": "5d6f75ce",
   "metadata": {},
   "outputs": [],
   "source": [
    "#i\n",
    "string\n",
    "#ii\n",
    "string\n",
    "#iii\n",
    "list\n",
    "\n",
    "#4\n",
    "int\n"
   ]
  },
  {
   "cell_type": "markdown",
   "id": "330326f4",
   "metadata": {},
   "source": [
    "# 3 "
   ]
  },
  {
   "cell_type": "code",
   "execution_count": null,
   "id": "c4883860",
   "metadata": {},
   "outputs": [],
   "source": []
  },
  {
   "cell_type": "code",
   "execution_count": 1,
   "id": "300ba866",
   "metadata": {},
   "outputs": [],
   "source": [
    "#i / this operator is used for division\n",
    "a=8/2\n"
   ]
  },
  {
   "cell_type": "code",
   "execution_count": 2,
   "id": "72db0d6b",
   "metadata": {},
   "outputs": [
    {
     "data": {
      "text/plain": [
       "4.0"
      ]
     },
     "execution_count": 2,
     "metadata": {},
     "output_type": "execute_result"
    }
   ],
   "source": [
    "a"
   ]
  },
  {
   "cell_type": "code",
   "execution_count": 3,
   "id": "345c6850",
   "metadata": {},
   "outputs": [],
   "source": [
    "#2 % this is used for modulo that is reminder\n",
    "a=5%2"
   ]
  },
  {
   "cell_type": "code",
   "execution_count": 4,
   "id": "81e0670a",
   "metadata": {},
   "outputs": [
    {
     "data": {
      "text/plain": [
       "1"
      ]
     },
     "execution_count": 4,
     "metadata": {},
     "output_type": "execute_result"
    }
   ],
   "source": [
    "a"
   ]
  },
  {
   "cell_type": "code",
   "execution_count": 5,
   "id": "3589db48",
   "metadata": {},
   "outputs": [],
   "source": [
    "#3 // this is used for floor division,after point not taken\n",
    "a=8//3"
   ]
  },
  {
   "cell_type": "code",
   "execution_count": 6,
   "id": "f059c555",
   "metadata": {},
   "outputs": [
    {
     "data": {
      "text/plain": [
       "2"
      ]
     },
     "execution_count": 6,
     "metadata": {},
     "output_type": "execute_result"
    }
   ],
   "source": [
    "a"
   ]
  },
  {
   "cell_type": "code",
   "execution_count": 7,
   "id": "47fce45c",
   "metadata": {},
   "outputs": [],
   "source": [
    "#4** this is used for powe i.e exponent\n",
    "a=2**3"
   ]
  },
  {
   "cell_type": "code",
   "execution_count": 8,
   "id": "0bc0c4d3",
   "metadata": {},
   "outputs": [
    {
     "data": {
      "text/plain": [
       "8"
      ]
     },
     "execution_count": 8,
     "metadata": {},
     "output_type": "execute_result"
    }
   ],
   "source": [
    "a"
   ]
  },
  {
   "cell_type": "markdown",
   "id": "ad3ea7b0",
   "metadata": {},
   "source": [
    "# 4\n"
   ]
  },
  {
   "cell_type": "code",
   "execution_count": 9,
   "id": "aa7aec6a",
   "metadata": {},
   "outputs": [],
   "source": [
    "fiona=[4,5,5.66,7,\"stryky\",\"sexy\",\"rimo\",9,True]"
   ]
  },
  {
   "cell_type": "code",
   "execution_count": 10,
   "id": "65637377",
   "metadata": {},
   "outputs": [
    {
     "name": "stdout",
     "output_type": "stream",
     "text": [
      "4\n",
      "<class 'int'>\n",
      "5\n",
      "<class 'int'>\n",
      "5.66\n",
      "<class 'float'>\n",
      "7\n",
      "<class 'int'>\n",
      "stryky\n",
      "<class 'str'>\n",
      "sexy\n",
      "<class 'str'>\n",
      "rimo\n",
      "<class 'str'>\n",
      "9\n",
      "<class 'int'>\n",
      "True\n",
      "<class 'bool'>\n"
     ]
    }
   ],
   "source": [
    "for i in fiona:\n",
    "    print(i)\n",
    "    print(type(i))"
   ]
  },
  {
   "cell_type": "markdown",
   "id": "4978c786",
   "metadata": {},
   "source": [
    "# 6"
   ]
  },
  {
   "cell_type": "code",
   "execution_count": 1,
   "id": "2c95db0b",
   "metadata": {},
   "outputs": [
    {
     "name": "stdout",
     "output_type": "stream",
     "text": [
      "5 not divisible by 3\n",
      "6 divisible by 3\n",
      "7 not divisible by 3\n",
      "25 not divisible by 3\n",
      "73 not divisible by 3\n",
      "3768 divisible by 3\n",
      "0 divisible by 3\n",
      "3 divisible by 3\n",
      "2 not divisible by 3\n",
      "456 divisible by 3\n",
      "2 not divisible by 3\n",
      "56 not divisible by 3\n",
      "57 divisible by 3\n",
      "45 divisible by 3\n",
      "78 divisible by 3\n",
      "34 not divisible by 3\n",
      "56 not divisible by 3\n",
      "78 divisible by 3\n",
      "9 divisible by 3\n",
      "2 not divisible by 3\n",
      "3 divisible by 3\n",
      "4 not divisible by 3\n",
      "56 not divisible by 3\n",
      "6789 divisible by 3\n",
      "67 not divisible by 3\n",
      "56 not divisible by 3\n"
     ]
    }
   ],
   "source": [
    "li=[5,6,7,25,73,3768,0,3,2,456,2,56,57,45,78,34,56,78,9,2,3,4,56,6789,67,56]\n",
    "for i in li:\n",
    "    if i%3==0:\n",
    "        print(i,\"divisible by 3\")\n",
    "    else:\n",
    "        print(i,\"not divisible by 3\")"
   ]
  },
  {
   "cell_type": "markdown",
   "id": "eafae43c",
   "metadata": {},
   "source": [
    "# 5"
   ]
  },
  {
   "cell_type": "code",
   "execution_count": 19,
   "id": "92e3f8a9",
   "metadata": {},
   "outputs": [
    {
     "name": "stdout",
     "output_type": "stream",
     "text": [
      "16\n",
      "2\n",
      "divisible by 4 no of times\n"
     ]
    }
   ],
   "source": [
    " a=int(input())\n",
    "b=int(input())\n",
    "count=0\n",
    "while a%b==0:\n",
    "    a=a/b\n",
    "    count+=1\n",
    "if count>0:\n",
    "    print(f\"divisible by {count} no of times\")\n",
    "else:\n",
    "    print(\"not divisible\")\n"
   ]
  },
  {
   "cell_type": "markdown",
   "id": "0bf471ae",
   "metadata": {},
   "source": [
    "# 7 "
   ]
  },
  {
   "cell_type": "code",
   "execution_count": 12,
   "id": "70b4fe53",
   "metadata": {},
   "outputs": [
    {
     "data": {
      "text/plain": [
       "[6, 7, 'sexy', 'fiona']"
      ]
     },
     "execution_count": 12,
     "metadata": {},
     "output_type": "execute_result"
    }
   ],
   "source": [
    "#mutable data types are lists that is we can do reassignment by indexinx but we cant do it in string\n",
    "stri=\"fiona\"\n",
    "# stri[0]=\"g\"this is not possible and will show error as string is immutable\n",
    "li=[6,7,8,\"fiona\"]\n",
    "li[2]=\"sexy\"\n",
    "li\n"
   ]
  },
  {
   "cell_type": "code",
   "execution_count": null,
   "id": "08198356",
   "metadata": {},
   "outputs": [],
   "source": [
    "#list is changed so list is mutable"
   ]
  }
 ],
 "metadata": {
  "kernelspec": {
   "display_name": "Python 3 (ipykernel)",
   "language": "python",
   "name": "python3"
  },
  "language_info": {
   "codemirror_mode": {
    "name": "ipython",
    "version": 3
   },
   "file_extension": ".py",
   "mimetype": "text/x-python",
   "name": "python",
   "nbconvert_exporter": "python",
   "pygments_lexer": "ipython3",
   "version": "3.10.9"
  }
 },
 "nbformat": 4,
 "nbformat_minor": 5
}
